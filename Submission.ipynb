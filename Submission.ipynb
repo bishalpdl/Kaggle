{
 "cells": [
  {
   "cell_type": "code",
   "execution_count": 221,
   "id": "8546a67e",
   "metadata": {},
   "outputs": [],
   "source": [
    "import numpy as np\n",
    "import pandas as pd\n",
    "from sklearn.metrics import confusion_matrix\n",
    "import xgboost as xgb\n",
    "from sklearn.model_selection import train_test_split\n",
    "from sklearn.model_selection import GridSearchCV\n",
    "from sklearn.metrics import mean_squared_error as mse\n",
    "from sklearn.metrics import balanced_accuracy_score, roc_auc_score, make_scorer\n",
    "import datetime"
   ]
  },
  {
   "cell_type": "code",
   "execution_count": 203,
   "id": "6aad8e3f",
   "metadata": {},
   "outputs": [],
   "source": [
    "df = pd.read_csv('./train.csv/train.csv')\n",
    "test_df = pd.read_csv('./test.csv/test.csv')"
   ]
  },
  {
   "cell_type": "code",
   "execution_count": 204,
   "id": "e793d67d",
   "metadata": {},
   "outputs": [],
   "source": [
    "# for i in range (1, 38):\n",
    "#     index = 'P' + str(i)\n",
    "#     mean_encodefor_df = df.groupby(index)['revenue'].mean()\n",
    "#     df.loc[:, index + \"_encoded\"] = df[index].map(mean_encode)\n",
    "#     df.drop(columns = [index], inplace = True)\n",
    "    \n",
    "#     mean_encodefor_testdf = test_df.groupby(index)['revenue'].mean()\n",
    "#     test_df.loc[:, index + \"_encoded\"] = test_df[index].map(mean_encodefor_testdf)\n",
    "#     test_df.drop(columns = [index], inplace = True)\n",
    "\n",
    "    \n",
    "# print(df, test_df)"
   ]
  },
  {
   "cell_type": "code",
   "execution_count": 205,
   "id": "378e04db",
   "metadata": {},
   "outputs": [],
   "source": [
    "#cities irregularites between train & test dataset i.e. no. of city in test >>> train \n",
    "df.drop(columns = ['City'], inplace = True)\n",
    "test_df.drop(columns = ['City'], inplace = True)"
   ]
  },
  {
   "cell_type": "code",
   "execution_count": 206,
   "id": "fd92027d",
   "metadata": {},
   "outputs": [
    {
     "data": {
      "text/html": [
       "<div>\n",
       "<style scoped>\n",
       "    .dataframe tbody tr th:only-of-type {\n",
       "        vertical-align: middle;\n",
       "    }\n",
       "\n",
       "    .dataframe tbody tr th {\n",
       "        vertical-align: top;\n",
       "    }\n",
       "\n",
       "    .dataframe thead th {\n",
       "        text-align: right;\n",
       "    }\n",
       "</style>\n",
       "<table border=\"1\" class=\"dataframe\">\n",
       "  <thead>\n",
       "    <tr style=\"text-align: right;\">\n",
       "      <th></th>\n",
       "      <th>Id</th>\n",
       "      <th>Open Date</th>\n",
       "      <th>City Group</th>\n",
       "      <th>Type</th>\n",
       "      <th>P1</th>\n",
       "      <th>P2</th>\n",
       "      <th>P3</th>\n",
       "      <th>P4</th>\n",
       "      <th>P5</th>\n",
       "      <th>P6</th>\n",
       "      <th>...</th>\n",
       "      <th>P28</th>\n",
       "      <th>P29</th>\n",
       "      <th>P30</th>\n",
       "      <th>P31</th>\n",
       "      <th>P32</th>\n",
       "      <th>P33</th>\n",
       "      <th>P34</th>\n",
       "      <th>P35</th>\n",
       "      <th>P36</th>\n",
       "      <th>P37</th>\n",
       "    </tr>\n",
       "  </thead>\n",
       "  <tbody>\n",
       "    <tr>\n",
       "      <th>0</th>\n",
       "      <td>0</td>\n",
       "      <td>07/17/1999</td>\n",
       "      <td>Big Cities</td>\n",
       "      <td>IL</td>\n",
       "      <td>4</td>\n",
       "      <td>5.0</td>\n",
       "      <td>4.0</td>\n",
       "      <td>4.0</td>\n",
       "      <td>2</td>\n",
       "      <td>2</td>\n",
       "      <td>...</td>\n",
       "      <td>2.0</td>\n",
       "      <td>3.0</td>\n",
       "      <td>5</td>\n",
       "      <td>3</td>\n",
       "      <td>4</td>\n",
       "      <td>5</td>\n",
       "      <td>5</td>\n",
       "      <td>4</td>\n",
       "      <td>3</td>\n",
       "      <td>4</td>\n",
       "    </tr>\n",
       "    <tr>\n",
       "      <th>1</th>\n",
       "      <td>1</td>\n",
       "      <td>02/14/2008</td>\n",
       "      <td>Big Cities</td>\n",
       "      <td>FC</td>\n",
       "      <td>4</td>\n",
       "      <td>5.0</td>\n",
       "      <td>4.0</td>\n",
       "      <td>4.0</td>\n",
       "      <td>1</td>\n",
       "      <td>2</td>\n",
       "      <td>...</td>\n",
       "      <td>3.0</td>\n",
       "      <td>3.0</td>\n",
       "      <td>0</td>\n",
       "      <td>0</td>\n",
       "      <td>0</td>\n",
       "      <td>0</td>\n",
       "      <td>0</td>\n",
       "      <td>0</td>\n",
       "      <td>0</td>\n",
       "      <td>0</td>\n",
       "    </tr>\n",
       "    <tr>\n",
       "      <th>2</th>\n",
       "      <td>2</td>\n",
       "      <td>03/09/2013</td>\n",
       "      <td>Other</td>\n",
       "      <td>IL</td>\n",
       "      <td>2</td>\n",
       "      <td>4.0</td>\n",
       "      <td>2.0</td>\n",
       "      <td>5.0</td>\n",
       "      <td>2</td>\n",
       "      <td>3</td>\n",
       "      <td>...</td>\n",
       "      <td>1.0</td>\n",
       "      <td>3.0</td>\n",
       "      <td>0</td>\n",
       "      <td>0</td>\n",
       "      <td>0</td>\n",
       "      <td>0</td>\n",
       "      <td>0</td>\n",
       "      <td>0</td>\n",
       "      <td>0</td>\n",
       "      <td>0</td>\n",
       "    </tr>\n",
       "    <tr>\n",
       "      <th>3</th>\n",
       "      <td>3</td>\n",
       "      <td>02/02/2012</td>\n",
       "      <td>Other</td>\n",
       "      <td>IL</td>\n",
       "      <td>6</td>\n",
       "      <td>4.5</td>\n",
       "      <td>6.0</td>\n",
       "      <td>6.0</td>\n",
       "      <td>4</td>\n",
       "      <td>4</td>\n",
       "      <td>...</td>\n",
       "      <td>2.5</td>\n",
       "      <td>7.5</td>\n",
       "      <td>25</td>\n",
       "      <td>12</td>\n",
       "      <td>10</td>\n",
       "      <td>6</td>\n",
       "      <td>18</td>\n",
       "      <td>12</td>\n",
       "      <td>12</td>\n",
       "      <td>6</td>\n",
       "    </tr>\n",
       "    <tr>\n",
       "      <th>4</th>\n",
       "      <td>4</td>\n",
       "      <td>05/09/2009</td>\n",
       "      <td>Other</td>\n",
       "      <td>IL</td>\n",
       "      <td>3</td>\n",
       "      <td>4.0</td>\n",
       "      <td>3.0</td>\n",
       "      <td>4.0</td>\n",
       "      <td>2</td>\n",
       "      <td>2</td>\n",
       "      <td>...</td>\n",
       "      <td>1.0</td>\n",
       "      <td>3.0</td>\n",
       "      <td>5</td>\n",
       "      <td>1</td>\n",
       "      <td>3</td>\n",
       "      <td>2</td>\n",
       "      <td>3</td>\n",
       "      <td>4</td>\n",
       "      <td>3</td>\n",
       "      <td>3</td>\n",
       "    </tr>\n",
       "  </tbody>\n",
       "</table>\n",
       "<p>5 rows × 41 columns</p>\n",
       "</div>"
      ],
      "text/plain": [
       "   Id   Open Date  City Group Type  P1   P2   P3   P4  P5  P6  ...  P28  P29  \\\n",
       "0   0  07/17/1999  Big Cities   IL   4  5.0  4.0  4.0   2   2  ...  2.0  3.0   \n",
       "1   1  02/14/2008  Big Cities   FC   4  5.0  4.0  4.0   1   2  ...  3.0  3.0   \n",
       "2   2  03/09/2013       Other   IL   2  4.0  2.0  5.0   2   3  ...  1.0  3.0   \n",
       "3   3  02/02/2012       Other   IL   6  4.5  6.0  6.0   4   4  ...  2.5  7.5   \n",
       "4   4  05/09/2009       Other   IL   3  4.0  3.0  4.0   2   2  ...  1.0  3.0   \n",
       "\n",
       "   P30  P31  P32  P33  P34  P35  P36  P37  \n",
       "0    5    3    4    5    5    4    3    4  \n",
       "1    0    0    0    0    0    0    0    0  \n",
       "2    0    0    0    0    0    0    0    0  \n",
       "3   25   12   10    6   18   12   12    6  \n",
       "4    5    1    3    2    3    4    3    3  \n",
       "\n",
       "[5 rows x 41 columns]"
      ]
     },
     "execution_count": 206,
     "metadata": {},
     "output_type": "execute_result"
    }
   ],
   "source": [
    "y = df['revenue']\n",
    "X = df.loc[:, df.columns != 'revenue']\n",
    "X.head()"
   ]
  },
  {
   "cell_type": "code",
   "execution_count": 207,
   "id": "d07b6cd9",
   "metadata": {},
   "outputs": [],
   "source": [
    "#converting open date to days sinced opened to get numeric value.\n",
    "def days_calculator(x):\n",
    "    return int(abs(datetime.datetime.strptime(x, '%m/%d/%Y') - datetime.datetime.today()).days)\n",
    "\n",
    "X['Open_days'] = X['Open Date'].apply(days_calculator)\n",
    "test_df['Open_days'] = test_df['Open Date'].apply(days_calculator)"
   ]
  },
  {
   "cell_type": "code",
   "execution_count": 208,
   "id": "244976fe",
   "metadata": {},
   "outputs": [],
   "source": [
    "#One hot encoding of city groups and types \n",
    "#Note: Type in test in 1 greater than train\n",
    "\n",
    "X = pd.get_dummies(X, columns = ['City Group', 'Type'])\n",
    "test_df = pd.get_dummies(test_df, columns = ['City Group', 'Type'])"
   ]
  },
  {
   "cell_type": "code",
   "execution_count": 209,
   "id": "e732ca54",
   "metadata": {
    "scrolled": true
   },
   "outputs": [],
   "source": [
    "# Dropping unnecessarity columns ie: has nothing to do with classfication\n",
    "# dropping type_mb from test as train doesn't contain MB type.\n",
    "# dropping Open date as Days open is inserted above\n",
    "# test_id isn't drop as it is required during submission \n",
    "\n",
    "X.drop(columns = ['Id', 'Open Date'], inplace = True)\n",
    "test_df.drop(columns = ['Open Date', 'Type_MB'], inplace = True)"
   ]
  },
  {
   "cell_type": "markdown",
   "id": "b07355f6",
   "metadata": {},
   "source": []
  },
  {
   "cell_type": "markdown",
   "id": "56c98227",
   "metadata": {},
   "source": [
    "*Using GridSearch CrossValidation to find best params*"
   ]
  },
  {
   "cell_type": "code",
   "execution_count": 210,
   "id": "8c20a918",
   "metadata": {},
   "outputs": [
    {
     "data": {
      "text/plain": [
       "GridSearchCV(cv=10,\n",
       "             estimator=XGBRegressor(base_score=None, booster=None,\n",
       "                                    colsample_bylevel=None,\n",
       "                                    colsample_bynode=None,\n",
       "                                    colsample_bytree=None, gamma=None,\n",
       "                                    gpu_id=None, importance_type='gain',\n",
       "                                    interaction_constraints=None,\n",
       "                                    learning_rate=None, max_delta_step=None,\n",
       "                                    max_depth=None, min_child_weight=None,\n",
       "                                    missing=nan, monotone_constraints=None,\n",
       "                                    n_estimators=100, n_jobs=None,\n",
       "                                    num_parallel_tree=None, random_state=None,\n",
       "                                    reg_alpha=None, reg_lambda=None,\n",
       "                                    scale_pos_weight=None, subsample=None,\n",
       "                                    tree_method=None, validate_parameters=None,\n",
       "                                    verbosity=None),\n",
       "             param_grid={'gamma': [0.1, 0.25, 0.5, 1, 2],\n",
       "                         'learning_rate': [0.0625, 0.125, 0.25, 0.33, 0.5,\n",
       "                                           0.625, 0.875, 1],\n",
       "                         'max_depth': [3, 4, 5]},\n",
       "             scoring='neg_root_mean_squared_error')"
      ]
     },
     "execution_count": 210,
     "metadata": {},
     "output_type": "execute_result"
    }
   ],
   "source": [
    "params = {\n",
    "    'max_depth': [3,4,5],\n",
    "    'learning_rate': [0.0625,0.125, 0.25, 0.33, 0.5, 0.625, 0.875, 1],\n",
    "    'gamma': [0.1, 0.25, 0.5, 1, 2 ],\n",
    "    \n",
    "}\n",
    "XGB_Model1 = xgb.XGBRegressor()\n",
    "XGB = GridSearchCV(estimator = XGB_Model1, param_grid = params, scoring='neg_root_mean_squared_error', cv=10)\n",
    "XGB.fit(X, y)"
   ]
  },
  {
   "cell_type": "code",
   "execution_count": 211,
   "id": "9320339b",
   "metadata": {},
   "outputs": [
    {
     "data": {
      "text/plain": [
       "0.1"
      ]
     },
     "execution_count": 211,
     "metadata": {},
     "output_type": "execute_result"
    }
   ],
   "source": [
    "XGB.best_estimator_.gamma"
   ]
  },
  {
   "cell_type": "code",
   "execution_count": 212,
   "id": "df28baaf",
   "metadata": {},
   "outputs": [
    {
     "data": {
      "text/plain": [
       "XGBRegressor(base_score=0.5, booster='gbtree', colsample_bylevel=1,\n",
       "             colsample_bynode=1, colsample_bytree=1, gamma=0.1, gpu_id=-1,\n",
       "             importance_type='gain', interaction_constraints='',\n",
       "             learning_rate=0.0625, max_delta_step=0, max_depth=4,\n",
       "             min_child_weight=1, missing=nan, monotone_constraints='()',\n",
       "             n_estimators=100, n_jobs=4, num_parallel_tree=1, random_state=0,\n",
       "             reg_alpha=0, reg_lambda=1, scale_pos_weight=1, subsample=1,\n",
       "             tree_method='exact', validate_parameters=1, verbosity=None)"
      ]
     },
     "execution_count": 212,
     "metadata": {},
     "output_type": "execute_result"
    }
   ],
   "source": [
    "XGB_best_Model = xgb.XGBRegressor(learning_rate = XGB.best_estimator_.learning_rate,\n",
    "                             max_depth = XGB.best_estimator_.max_depth,\n",
    "                              gamma = XGB.best_estimator_.gamma)\n",
    "XGB_best_Model.fit(X,y)"
   ]
  },
  {
   "cell_type": "code",
   "execution_count": 213,
   "id": "a4abaaf8",
   "metadata": {},
   "outputs": [],
   "source": [
    "result = XGB.predict(test_df.drop(columns = ['Id']))"
   ]
  },
  {
   "cell_type": "code",
   "execution_count": 214,
   "id": "6ece8618",
   "metadata": {},
   "outputs": [
    {
     "data": {
      "text/plain": [
       "array([3502096.8, 3268815.5, 2817710. , ..., 2180362. , 3621647. ,\n",
       "       5547767. ], dtype=float32)"
      ]
     },
     "execution_count": 214,
     "metadata": {},
     "output_type": "execute_result"
    }
   ],
   "source": [
    "result"
   ]
  },
  {
   "cell_type": "code",
   "execution_count": 230,
   "id": "7d8cde22",
   "metadata": {},
   "outputs": [],
   "source": [
    "result_in_submission_format = pd.DataFrame(columns = ['Id', 'Prediction'])\n",
    "result_in_submission_format['Id'] = test_df[\"Id\"]\n",
    "result_in_submission_format['Prediction'] = result"
   ]
  },
  {
   "cell_type": "code",
   "execution_count": 234,
   "id": "2b254723",
   "metadata": {},
   "outputs": [],
   "source": [
    "result_in_submission_format.to_csv('Submit_final.csv', index = False)"
   ]
  },
  {
   "cell_type": "code",
   "execution_count": null,
   "id": "e96214ec",
   "metadata": {},
   "outputs": [],
   "source": []
  },
  {
   "cell_type": "code",
   "execution_count": null,
   "id": "dd7a9ea1",
   "metadata": {},
   "outputs": [],
   "source": []
  },
  {
   "cell_type": "code",
   "execution_count": null,
   "id": "03aff304",
   "metadata": {},
   "outputs": [],
   "source": []
  },
  {
   "cell_type": "code",
   "execution_count": null,
   "id": "d5ceadd5",
   "metadata": {},
   "outputs": [],
   "source": []
  },
  {
   "cell_type": "code",
   "execution_count": null,
   "id": "b74fca24",
   "metadata": {},
   "outputs": [],
   "source": []
  },
  {
   "cell_type": "code",
   "execution_count": null,
   "id": "dd3dd9f2",
   "metadata": {},
   "outputs": [],
   "source": []
  }
 ],
 "metadata": {
  "kernelspec": {
   "display_name": "Python 3",
   "language": "python",
   "name": "python3"
  },
  "language_info": {
   "codemirror_mode": {
    "name": "ipython",
    "version": 3
   },
   "file_extension": ".py",
   "mimetype": "text/x-python",
   "name": "python",
   "nbconvert_exporter": "python",
   "pygments_lexer": "ipython3",
   "version": "3.7.4"
  }
 },
 "nbformat": 4,
 "nbformat_minor": 5
}
